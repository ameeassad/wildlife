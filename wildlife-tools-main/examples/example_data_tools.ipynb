{
 "cells": [
  {
   "cell_type": "code",
   "execution_count": 7,
   "id": "1ecebf0b",
   "metadata": {},
   "outputs": [],
   "source": [
    "import sys\n",
    "sys.path.append('../')"
   ]
  },
  {
   "cell_type": "markdown",
   "id": "eb22569d",
   "metadata": {},
   "source": [
    "# 1. Split\n",
    "- Split represents subset of dataset.\n"
   ]
  },
  {
   "cell_type": "code",
   "execution_count": 8,
   "id": "4cabebdd",
   "metadata": {},
   "outputs": [],
   "source": [
    "from wildlife_tools import realize\n",
    "import pandas as pd\n",
    "\n",
    "metadata = pd.DataFrame([\n",
    "    [1, 'test',  'A'],\n",
    "    [2, 'train', 'A'],\n",
    "    [3, 'test',  'B'],\n",
    "    [4, 'train', 'B'],\n",
    "    [5, 'test',  'C'],\n",
    "    [6, 'train', 'C'],\n",
    "    ],\n",
    "    columns=['id', 'split', 'identity']\n",
    ")"
   ]
  },
  {
   "cell_type": "markdown",
   "id": "0367500b",
   "metadata": {},
   "source": [
    "## 1.1 Split to chunks\n",
    "- Deterministically splits to equally sized chunks. Usefull for splitting the dataset to paralellize computationsally heavy tasks."
   ]
  },
  {
   "cell_type": "code",
   "execution_count": 2,
   "id": "b8841e9c",
   "metadata": {},
   "outputs": [
    {
     "data": {
      "text/html": [
       "<div>\n",
       "<style scoped>\n",
       "    .dataframe tbody tr th:only-of-type {\n",
       "        vertical-align: middle;\n",
       "    }\n",
       "\n",
       "    .dataframe tbody tr th {\n",
       "        vertical-align: top;\n",
       "    }\n",
       "\n",
       "    .dataframe thead th {\n",
       "        text-align: right;\n",
       "    }\n",
       "</style>\n",
       "<table border=\"1\" class=\"dataframe\">\n",
       "  <thead>\n",
       "    <tr style=\"text-align: right;\">\n",
       "      <th></th>\n",
       "      <th>id</th>\n",
       "      <th>split</th>\n",
       "      <th>identity</th>\n",
       "    </tr>\n",
       "  </thead>\n",
       "  <tbody>\n",
       "    <tr>\n",
       "      <th>2</th>\n",
       "      <td>3</td>\n",
       "      <td>test</td>\n",
       "      <td>B</td>\n",
       "    </tr>\n",
       "    <tr>\n",
       "      <th>3</th>\n",
       "      <td>4</td>\n",
       "      <td>train</td>\n",
       "      <td>B</td>\n",
       "    </tr>\n",
       "  </tbody>\n",
       "</table>\n",
       "</div>"
      ],
      "text/plain": [
       "   id  split identity\n",
       "2   3   test        B\n",
       "3   4  train        B"
      ]
     },
     "execution_count": 2,
     "metadata": {},
     "output_type": "execute_result"
    }
   ],
   "source": [
    "split_config = {\n",
    "    'method': 'SplitChunk',\n",
    "    'chunk': 2,\n",
    "    'chunk_total': 3\n",
    "}\n",
    "split = realize(split_config)\n",
    "split(metadata)"
   ]
  },
  {
   "cell_type": "markdown",
   "id": "d5cf0cb3",
   "metadata": {},
   "source": [
    "## 1.2 Split  based on metadata\n",
    "- Split based on column in metadata (eg. train / test in split column)"
   ]
  },
  {
   "cell_type": "code",
   "execution_count": 3,
   "id": "a479be93",
   "metadata": {},
   "outputs": [
    {
     "data": {
      "text/html": [
       "<div>\n",
       "<style scoped>\n",
       "    .dataframe tbody tr th:only-of-type {\n",
       "        vertical-align: middle;\n",
       "    }\n",
       "\n",
       "    .dataframe tbody tr th {\n",
       "        vertical-align: top;\n",
       "    }\n",
       "\n",
       "    .dataframe thead th {\n",
       "        text-align: right;\n",
       "    }\n",
       "</style>\n",
       "<table border=\"1\" class=\"dataframe\">\n",
       "  <thead>\n",
       "    <tr style=\"text-align: right;\">\n",
       "      <th></th>\n",
       "      <th>id</th>\n",
       "      <th>split</th>\n",
       "      <th>identity</th>\n",
       "    </tr>\n",
       "  </thead>\n",
       "  <tbody>\n",
       "    <tr>\n",
       "      <th>0</th>\n",
       "      <td>1</td>\n",
       "      <td>test</td>\n",
       "      <td>A</td>\n",
       "    </tr>\n",
       "    <tr>\n",
       "      <th>2</th>\n",
       "      <td>3</td>\n",
       "      <td>test</td>\n",
       "      <td>B</td>\n",
       "    </tr>\n",
       "    <tr>\n",
       "      <th>4</th>\n",
       "      <td>5</td>\n",
       "      <td>test</td>\n",
       "      <td>C</td>\n",
       "    </tr>\n",
       "  </tbody>\n",
       "</table>\n",
       "</div>"
      ],
      "text/plain": [
       "   id split identity\n",
       "0   1  test        A\n",
       "2   3  test        B\n",
       "4   5  test        C"
      ]
     },
     "execution_count": 3,
     "metadata": {},
     "output_type": "execute_result"
    }
   ],
   "source": [
    "split_config = {\n",
    "    'method': 'SplitMetadata',\n",
    "    'col': 'split',\n",
    "    'value': 'test',\n",
    "}\n",
    "split = realize(split_config)\n",
    "split(metadata)"
   ]
  },
  {
   "cell_type": "markdown",
   "id": "d90e1686",
   "metadata": {},
   "source": [
    "## 1.3 Split using wildlife-datasets splits"
   ]
  },
  {
   "cell_type": "code",
   "execution_count": 4,
   "id": "6bba52bd",
   "metadata": {},
   "outputs": [
    {
     "data": {
      "text/html": [
       "<div>\n",
       "<style scoped>\n",
       "    .dataframe tbody tr th:only-of-type {\n",
       "        vertical-align: middle;\n",
       "    }\n",
       "\n",
       "    .dataframe tbody tr th {\n",
       "        vertical-align: top;\n",
       "    }\n",
       "\n",
       "    .dataframe thead th {\n",
       "        text-align: right;\n",
       "    }\n",
       "</style>\n",
       "<table border=\"1\" class=\"dataframe\">\n",
       "  <thead>\n",
       "    <tr style=\"text-align: right;\">\n",
       "      <th></th>\n",
       "      <th>id</th>\n",
       "      <th>split</th>\n",
       "      <th>identity</th>\n",
       "    </tr>\n",
       "  </thead>\n",
       "  <tbody>\n",
       "    <tr>\n",
       "      <th>0</th>\n",
       "      <td>1</td>\n",
       "      <td>test</td>\n",
       "      <td>A</td>\n",
       "    </tr>\n",
       "    <tr>\n",
       "      <th>3</th>\n",
       "      <td>4</td>\n",
       "      <td>train</td>\n",
       "      <td>B</td>\n",
       "    </tr>\n",
       "    <tr>\n",
       "      <th>4</th>\n",
       "      <td>5</td>\n",
       "      <td>test</td>\n",
       "      <td>C</td>\n",
       "    </tr>\n",
       "  </tbody>\n",
       "</table>\n",
       "</div>"
      ],
      "text/plain": [
       "   id  split identity\n",
       "0   1   test        A\n",
       "3   4  train        B\n",
       "4   5   test        C"
      ]
     },
     "execution_count": 4,
     "metadata": {},
     "output_type": "execute_result"
    }
   ],
   "source": [
    "split_config = {\n",
    "    'method': 'SplitWildlife',\n",
    "    'split': 'test',\n",
    "    'splitter': {\n",
    "        'method': 'closed',\n",
    "        'seed': 1,\n",
    "        'ratio_train': 0.7\n",
    "        }\n",
    "}\n",
    "split = realize(split_config)\n",
    "split(metadata)"
   ]
  },
  {
   "cell_type": "code",
   "execution_count": null,
   "id": "f2f14d12",
   "metadata": {},
   "outputs": [],
   "source": []
  },
  {
   "cell_type": "markdown",
   "id": "12cf0442",
   "metadata": {},
   "source": [
    "## 1.4 Split pipeline\n",
    "- Multiple splits chained in succession. Usefull for splitting data to both train set and to chunks."
   ]
  },
  {
   "cell_type": "code",
   "execution_count": 5,
   "id": "0bcc05d0",
   "metadata": {},
   "outputs": [
    {
     "data": {
      "text/html": [
       "<div>\n",
       "<style scoped>\n",
       "    .dataframe tbody tr th:only-of-type {\n",
       "        vertical-align: middle;\n",
       "    }\n",
       "\n",
       "    .dataframe tbody tr th {\n",
       "        vertical-align: top;\n",
       "    }\n",
       "\n",
       "    .dataframe thead th {\n",
       "        text-align: right;\n",
       "    }\n",
       "</style>\n",
       "<table border=\"1\" class=\"dataframe\">\n",
       "  <thead>\n",
       "    <tr style=\"text-align: right;\">\n",
       "      <th></th>\n",
       "      <th>id</th>\n",
       "      <th>split</th>\n",
       "      <th>identity</th>\n",
       "    </tr>\n",
       "  </thead>\n",
       "  <tbody>\n",
       "    <tr>\n",
       "      <th>2</th>\n",
       "      <td>3</td>\n",
       "      <td>test</td>\n",
       "      <td>B</td>\n",
       "    </tr>\n",
       "  </tbody>\n",
       "</table>\n",
       "</div>"
      ],
      "text/plain": [
       "   id split identity\n",
       "2   3  test        B"
      ]
     },
     "execution_count": 5,
     "metadata": {},
     "output_type": "execute_result"
    }
   ],
   "source": [
    "split_config = {\n",
    "    'method': 'SplitChain',\n",
    "    'steps': [\n",
    "    {\n",
    "        'method': 'SplitMetadata',\n",
    "        'col': 'split',\n",
    "        'value': 'test',\n",
    "    },{\n",
    "        'method': 'SplitChunk',\n",
    "        'chunk': 2,\n",
    "        'chunk_total': 3\n",
    "    }\n",
    "]}\n",
    "\n",
    "split = realize(split_config)\n",
    "split(metadata)"
   ]
  },
  {
   "cell_type": "code",
   "execution_count": null,
   "id": "9abf7df1",
   "metadata": {},
   "outputs": [],
   "source": []
  },
  {
   "cell_type": "code",
   "execution_count": 7,
   "id": "aa86631c",
   "metadata": {},
   "outputs": [
    {
     "name": "stdout",
     "output_type": "stream",
     "text": [
      "No method SplitPipeline in method store.\n"
     ]
    }
   ],
   "source": [
    "# Raise if component is not split\n",
    "split_config = {\n",
    "    'method': 'SplitPipeline',\n",
    "    'steps': [\n",
    "    {\n",
    "        'method': 'TransformTimm',\n",
    "        'input_size': 224,\n",
    "        'is_training': True,\n",
    "        'auto_augment': 'rand-m10-n2-mstd1',\n",
    "    }\n",
    "]}\n",
    "\n",
    "try:\n",
    "    split = realize(split_config)\n",
    "    split(metadata)\n",
    "\n",
    "except ValueError as e:\n",
    "    print(e)"
   ]
  },
  {
   "cell_type": "markdown",
   "id": "db5d55f3",
   "metadata": {},
   "source": [
    "# 2. Datasets"
   ]
  },
  {
   "cell_type": "code",
   "execution_count": 13,
   "id": "60088254",
   "metadata": {},
   "outputs": [
    {
     "data": {
      "text/plain": [
       "tensor([[[0.2000, 0.2000, 0.2000,  ..., 0.1765, 0.1882, 0.1843],\n",
       "         [0.2000, 0.2000, 0.2000,  ..., 0.2157, 0.2431, 0.2118],\n",
       "         [0.2000, 0.2000, 0.2000,  ..., 0.2431, 0.2157, 0.1961],\n",
       "         ...,\n",
       "         [0.4078, 0.3922, 0.3804,  ..., 0.2784, 0.2784, 0.2941],\n",
       "         [0.3961, 0.3843, 0.3804,  ..., 0.2706, 0.2588, 0.2667],\n",
       "         [0.3961, 0.3843, 0.3843,  ..., 0.2667, 0.2471, 0.2471]],\n",
       "\n",
       "        [[0.3333, 0.3333, 0.3333,  ..., 0.2863, 0.2980, 0.2941],\n",
       "         [0.3333, 0.3333, 0.3333,  ..., 0.3216, 0.3490, 0.3176],\n",
       "         [0.3333, 0.3333, 0.3333,  ..., 0.3412, 0.3137, 0.2980],\n",
       "         ...,\n",
       "         [0.3569, 0.3412, 0.3294,  ..., 0.2275, 0.2275, 0.2431],\n",
       "         [0.3490, 0.3333, 0.3294,  ..., 0.2196, 0.2078, 0.2196],\n",
       "         [0.3490, 0.3333, 0.3373,  ..., 0.2157, 0.2078, 0.2157]],\n",
       "\n",
       "        [[0.3804, 0.3804, 0.3765,  ..., 0.3333, 0.3490, 0.3412],\n",
       "         [0.3804, 0.3804, 0.3765,  ..., 0.3922, 0.4235, 0.3922],\n",
       "         [0.3804, 0.3804, 0.3765,  ..., 0.4235, 0.3843, 0.3608],\n",
       "         ...,\n",
       "         [0.3216, 0.3059, 0.2941,  ..., 0.1961, 0.1961, 0.2118],\n",
       "         [0.3098, 0.2980, 0.2941,  ..., 0.1882, 0.1765, 0.1843],\n",
       "         [0.3059, 0.2902, 0.2902,  ..., 0.1804, 0.1686, 0.1725]]])"
      ]
     },
     "execution_count": 13,
     "metadata": {},
     "output_type": "execute_result"
    }
   ],
   "source": [
    "config = {\n",
    "    'method': 'WildlifeDataset',\n",
    "    'metadata': 'ExampleDataset/metadata.csv',\n",
    "    'root': 'ExampleDataset',\n",
    "\n",
    "    'transform': {\n",
    "        'method': 'TransformTorchvision',\n",
    "        'compose': [\n",
    "            'Resize(224)',\n",
    "            'ToTensor()'\n",
    "        ],\n",
    "    },\n",
    "\n",
    "    'split': {\n",
    "        'method': 'SplitChunk',\n",
    "        'chunk': 1,\n",
    "        'chunk_total': 2,\n",
    "    },\n",
    "}\n",
    "dataset = realize(config)\n",
    "x, y = dataset[0]\n",
    "x"
   ]
  },
  {
   "cell_type": "code",
   "execution_count": null,
   "id": "5b74eef6",
   "metadata": {},
   "outputs": [],
   "source": []
  },
  {
   "cell_type": "markdown",
   "id": "346e5e93",
   "metadata": {},
   "source": [
    "## 2.2 Feature dataset\n",
    "- In memory dataset with features."
   ]
  },
  {
   "cell_type": "markdown",
   "id": "23a69f66",
   "metadata": {},
   "source": [
    "# 3. Transforms"
   ]
  },
  {
   "cell_type": "markdown",
   "id": "297f13d2",
   "metadata": {},
   "source": [
    "## 3.1 TIMM Transforms\n",
    "- Gives arguments to timm.data.transforms_factory.create_transform."
   ]
  },
  {
   "cell_type": "code",
   "execution_count": 15,
   "id": "855c1976",
   "metadata": {},
   "outputs": [
    {
     "data": {
      "text/plain": [
       "Compose(\n",
       "    RandomResizedCropAndInterpolation(size=(224, 224), scale=(0.08, 1.0), ratio=(0.75, 1.3333), interpolation=bilinear)\n",
       "    RandomHorizontalFlip(p=0.5)\n",
       "    RandAugment(n=2, ops=\n",
       "\tAugmentOp(name=AutoContrast, p=0.5, m=10, mstd=1.0)\n",
       "\tAugmentOp(name=Equalize, p=0.5, m=10, mstd=1.0)\n",
       "\tAugmentOp(name=Invert, p=0.5, m=10, mstd=1.0)\n",
       "\tAugmentOp(name=Rotate, p=0.5, m=10, mstd=1.0)\n",
       "\tAugmentOp(name=Posterize, p=0.5, m=10, mstd=1.0)\n",
       "\tAugmentOp(name=Solarize, p=0.5, m=10, mstd=1.0)\n",
       "\tAugmentOp(name=SolarizeAdd, p=0.5, m=10, mstd=1.0)\n",
       "\tAugmentOp(name=Color, p=0.5, m=10, mstd=1.0)\n",
       "\tAugmentOp(name=Contrast, p=0.5, m=10, mstd=1.0)\n",
       "\tAugmentOp(name=Brightness, p=0.5, m=10, mstd=1.0)\n",
       "\tAugmentOp(name=Sharpness, p=0.5, m=10, mstd=1.0)\n",
       "\tAugmentOp(name=ShearX, p=0.5, m=10, mstd=1.0)\n",
       "\tAugmentOp(name=ShearY, p=0.5, m=10, mstd=1.0)\n",
       "\tAugmentOp(name=TranslateXRel, p=0.5, m=10, mstd=1.0)\n",
       "\tAugmentOp(name=TranslateYRel, p=0.5, m=10, mstd=1.0))\n",
       "    ToTensor()\n",
       "    Normalize(mean=tensor([0.4850, 0.4560, 0.4060]), std=tensor([0.2290, 0.2240, 0.2250]))\n",
       ")"
      ]
     },
     "execution_count": 15,
     "metadata": {},
     "output_type": "execute_result"
    }
   ],
   "source": [
    "config = {\n",
    "    'method': 'TransformTimm',\n",
    "    'input_size': 224,\n",
    "    'is_training': True,\n",
    "    'auto_augment': 'rand-m10-n2-mstd1',\n",
    "}\n",
    "transform = realize(config)\n",
    "transform"
   ]
  },
  {
   "cell_type": "markdown",
   "id": "ca3b7ef2",
   "metadata": {},
   "source": [
    "## 3.2 Torchvision Transforms\n",
    "- Build transform pipelines using torchvision.transform Compose."
   ]
  },
  {
   "cell_type": "code",
   "execution_count": 16,
   "id": "761ddc39",
   "metadata": {},
   "outputs": [
    {
     "data": {
      "text/plain": [
       "Compose(\n",
       "    Resize(size=256, interpolation=bilinear, max_size=None, antialias=warn)\n",
       "    ToTensor()\n",
       ")"
      ]
     },
     "execution_count": 16,
     "metadata": {},
     "output_type": "execute_result"
    }
   ],
   "source": [
    "config = {\n",
    "    'method': 'TransformTorchvision',\n",
    "    'compose': [\n",
    "        'Resize(size=256)',\n",
    "        'ToTensor()',\n",
    "    ]\n",
    "}\n",
    "transform = realize(config)\n",
    "transform"
   ]
  },
  {
   "cell_type": "code",
   "execution_count": null,
   "id": "ef84e726",
   "metadata": {},
   "outputs": [],
   "source": []
  },
  {
   "cell_type": "markdown",
   "id": "f8b4c716",
   "metadata": {},
   "source": [
    "# Yaml parser\n",
    "- Utilize Jinja to parse config.\n"
   ]
  },
  {
   "cell_type": "code",
   "execution_count": 19,
   "id": "62fa0b2e",
   "metadata": {},
   "outputs": [],
   "source": [
    "from wildlife_tools.tools import parse_yaml"
   ]
  },
  {
   "cell_type": "code",
   "execution_count": 20,
   "id": "9f4aa3f1",
   "metadata": {},
   "outputs": [
    {
     "data": {
      "text/plain": [
       "{'pipeline1': {'method': 'SplitChunk', 'chunk': 2, 'chunk_total': 3}}"
      ]
     },
     "execution_count": 20,
     "metadata": {},
     "output_type": "execute_result"
    }
   ],
   "source": [
    "# No impute\n",
    "\n",
    "yaml_string = \"\"\"\n",
    "pipeline1:\n",
    "  method: SplitChunk\n",
    "  chunk: 2\n",
    "  chunk_total: 3\n",
    "\"\"\"\n",
    "\n",
    "\n",
    "parse_yaml(yaml_string)"
   ]
  },
  {
   "cell_type": "code",
   "execution_count": 21,
   "id": "66d16cd5",
   "metadata": {},
   "outputs": [
    {
     "data": {
      "text/plain": [
       "{'pipeline1': {'method': 'SplitChunk', 'chunk': 2, 'chunk_total': 3},\n",
       " 'pipeline2': {'method': 'SplitPipeline',\n",
       "  'steps': [{'method': 'SplitChunk', 'chunk': 2, 'chunk_total': 3}]},\n",
       " 'pipeline3': {'method': 'SplitPipeline',\n",
       "  'steps': [{'method': 'SplitPipeline',\n",
       "    'steps': [{'method': 'SplitChunk', 'chunk': 2, 'chunk_total': 3}]}]}}"
      ]
     },
     "execution_count": 21,
     "metadata": {},
     "output_type": "execute_result"
    }
   ],
   "source": [
    "# Multiple imputes\n",
    "\n",
    "yaml_string = \"\"\"\n",
    "pipeline1:\n",
    "  method: SplitChunk\n",
    "  chunk: 2\n",
    "  chunk_total: 3\n",
    "\n",
    "pipeline2:\n",
    "  method: SplitPipeline\n",
    "  steps:\n",
    "  - \"{{pipeline1}}\"\n",
    "\n",
    "pipeline3:\n",
    "  method: SplitPipeline\n",
    "  steps:\n",
    "  - \"{{pipeline2}}\"\n",
    "\n",
    "\"\"\"\n",
    "\n",
    "\n",
    "parse_yaml(yaml_string)"
   ]
  },
  {
   "cell_type": "code",
   "execution_count": 22,
   "id": "f988c798",
   "metadata": {},
   "outputs": [
    {
     "name": "stdout",
     "output_type": "stream",
     "text": [
      "Unable to impute variables in all places: {'pipeline3'}\n"
     ]
    }
   ],
   "source": [
    "# Error if circular impute:\n",
    "\n",
    "yaml_string = \"\"\"\n",
    "pipeline3:\n",
    "  method: SplitPipeline\n",
    "  steps:\n",
    "  - \"{{pipeline3}}\"\n",
    "\n",
    "\"\"\"\n",
    "\n",
    "try:\n",
    "    parse_yaml(yaml_string)\n",
    "except ValueError as e:\n",
    "    print(e)"
   ]
  },
  {
   "cell_type": "code",
   "execution_count": null,
   "id": "6538385c",
   "metadata": {},
   "outputs": [],
   "source": []
  }
 ],
 "metadata": {
  "kernelspec": {
   "display_name": "Python 3 (ipykernel)",
   "language": "python",
   "name": "python3"
  },
  "language_info": {
   "codemirror_mode": {
    "name": "ipython",
    "version": 3
   },
   "file_extension": ".py",
   "mimetype": "text/x-python",
   "name": "python",
   "nbconvert_exporter": "python",
   "pygments_lexer": "ipython3",
   "version": "3.12.2"
  }
 },
 "nbformat": 4,
 "nbformat_minor": 5
}
