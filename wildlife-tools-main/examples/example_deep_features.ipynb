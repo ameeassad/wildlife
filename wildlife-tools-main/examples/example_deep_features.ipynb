{
 "cells": [
  {
   "cell_type": "code",
   "execution_count": 7,
   "id": "8de0c8b7",
   "metadata": {
    "scrolled": true
   },
   "outputs": [],
   "source": [
    "import timm\n",
    "import pandas as pd\n",
    "import torchvision.transforms as T\n",
    "\n",
    "from wildlife_datasets import splits\n",
    "from wildlife_tools.data import WildlifeDataset, SplitMetadata, SplitWildlife\n",
    "from wildlife_tools.features import DeepFeatures\n",
    "from wildlife_tools.similarity import CosineSimilarity\n",
    "from wildlife_tools.inference import KnnClassifier"
   ]
  },
  {
   "cell_type": "markdown",
   "id": "02049c82",
   "metadata": {},
   "source": [
    "# Prepare dataset\n",
    "- Load metadata from pandas dataframe\n",
    "- Create two datasets using split information from the metadata \n",
    "    - query - created from test split\n",
    "    - database - created from train subset."
   ]
  },
  {
   "cell_type": "code",
   "execution_count": 8,
   "id": "57e1482c",
   "metadata": {},
   "outputs": [],
   "source": [
    "# metadata = pd.read_csv('ExampleDataset/metadata.csv')\n",
    "# image_root = 'ExampleDataset'\n",
    "\n",
    "metadata = pd.read_csv('/Users/amee/Documents/code/master-thesis/EagleID/dataset/dataframe/cache_ATRW.csv')\n",
    "image_root = '/Users/amee/Documents/code/master-thesis/datasets/ATRW/'\n",
    "\n",
    "transform = T.Compose([\n",
    "    T.Resize([224, 224]),\n",
    "    T.ToTensor(),\n",
    "    T.Normalize(mean=(0.485, 0.456, 0.406), std=(0.229, 0.224, 0.225)),\n",
    "])\n",
    "\n",
    "splitter = splits.ClosedSetSplit(0.8)\n",
    "\n",
    "dataset_database = WildlifeDataset(\n",
    "    metadata = metadata, \n",
    "    root = image_root,\n",
    "    split = SplitWildlife(splitter=splitter, split=\"train\", split_map=None, repeat_idx=0),\n",
    "    transform=transform\n",
    ")\n",
    "\n",
    "dataset_query = WildlifeDataset(\n",
    "    metadata = metadata, \n",
    "    root = image_root,\n",
    "    split = SplitWildlife(splitter=splitter, split=\"test\", split_map=None, repeat_idx=0),\n",
    "    transform=transform\n",
    ")"
   ]
  },
  {
   "cell_type": "markdown",
   "id": "10846eec",
   "metadata": {},
   "source": [
    "# Extract features\n",
    "- Extract features using MegaDescriptor-Tiny (https://huggingface.co/BVRA/MegaDescriptor-T-224)\n",
    "\n",
    "- Input to the extractor is WildlifeDataset object.\n",
    "- Output is numpy array with shape (n_images x dim_embeddings)"
   ]
  },
  {
   "cell_type": "code",
   "execution_count": 9,
   "id": "d03cbcaa",
   "metadata": {},
   "outputs": [
    {
     "name": "stderr",
     "output_type": "stream",
     "text": [
      "100%|█████████████████████████████████████████████████████████████████| 9/9 [01:24<00:00,  9.42s/it]\n",
      "100%|███████████████████████████████████████████████████████████████| 34/34 [04:51<00:00,  8.58s/it]"
     ]
    },
    {
     "name": "stdout",
     "output_type": "stream",
     "text": [
      "Query features shape: (1054, 768), Database features shape: (4249, 768)\n"
     ]
    },
    {
     "name": "stderr",
     "output_type": "stream",
     "text": [
      "\n"
     ]
    }
   ],
   "source": [
    "from wildlife_tools.features import DeepFeatures\n",
    "import timm\n",
    "\n",
    "backbone = timm.create_model('hf-hub:BVRA/MegaDescriptor-T-224', num_classes=0, pretrained=True)\n",
    "extractor = DeepFeatures(backbone)\n",
    "query, database = extractor(dataset_query), extractor(dataset_database)\n",
    "\n",
    "print(f'Query features shape: {query.shape}, Database features shape: {database.shape}')"
   ]
  },
  {
   "cell_type": "markdown",
   "id": "62c2f49a",
   "metadata": {},
   "source": [
    "## Similarity and k-nn classification\n",
    "- Calculate cosine similarity between query and database features.\n",
    "    - Inputs are arrays with query and database features\n",
    "    - Output is matrix with shape n_query x n_database.\n",
    "\n",
    "- Use the similarity for KNN classifier\n",
    "    - Output is array of n_query length.\n",
    "    - Values in the array are nearest labels in the database. (with ordinal encoding - indexes of columns in the similarity matrix)."
   ]
  },
  {
   "cell_type": "code",
   "execution_count": 5,
   "id": "8ebcf594",
   "metadata": {},
   "outputs": [
    {
     "name": "stdout",
     "output_type": "stream",
     "text": [
      "Similarity matrix: \n",
      " (1, 2)\n",
      "Prediction \t ['a']\n",
      "Ground truth \t ['a']\n",
      "\n",
      " Accuracy:  1.0\n"
     ]
    }
   ],
   "source": [
    "# Cosine similarity between deep features\n",
    "similarity = CosineSimilarity()\n",
    "sim = similarity(query, database)['cosine']\n",
    "print(\"Similarity matrix: \\n\", sim.shape)\n",
    "\n",
    "\n",
    "# Nearest neigbour classifier using the similarity\n",
    "classifier = KnnClassifier(k=1, database_labels=dataset_database.labels_map)\n",
    "preds = classifier(sim)\n",
    "print(\"Prediction \\t\", preds)\n",
    "print(\"Ground truth \\t\", dataset_query.labels_string)\n",
    "\n",
    "acc = sum(preds == dataset_query.labels_string) / len(dataset_query.labels_string)\n",
    "print('\\n Accuracy: ', acc)"
   ]
  },
  {
   "cell_type": "code",
   "execution_count": null,
   "id": "ea2ca8e6",
   "metadata": {},
   "outputs": [],
   "source": []
  },
  {
   "cell_type": "code",
   "execution_count": null,
   "id": "ad5f6917",
   "metadata": {},
   "outputs": [],
   "source": []
  },
  {
   "cell_type": "code",
   "execution_count": null,
   "id": "cf45278f",
   "metadata": {},
   "outputs": [],
   "source": []
  }
 ],
 "metadata": {
  "kernelspec": {
   "display_name": "Python 3 (ipykernel)",
   "language": "python",
   "name": "python3"
  },
  "language_info": {
   "codemirror_mode": {
    "name": "ipython",
    "version": 3
   },
   "file_extension": ".py",
   "mimetype": "text/x-python",
   "name": "python",
   "nbconvert_exporter": "python",
   "pygments_lexer": "ipython3",
   "version": "3.12.2"
  }
 },
 "nbformat": 4,
 "nbformat_minor": 5
}
