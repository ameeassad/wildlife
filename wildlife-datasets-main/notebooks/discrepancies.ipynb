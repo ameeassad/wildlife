{
 "cells": [
  {
   "cell_type": "markdown",
   "id": "3f29aa0c-3b62-48a2-9d9b-7f09eb0a537e",
   "metadata": {},
   "source": [
    "# Discrepancies\n",
    "\n",
    "This notebook shows discrepancies between the metadata extracted from papers and values extracted from the downloaded data. Disrepancies indicate a potential problem."
   ]
  },
  {
   "cell_type": "code",
   "execution_count": 1,
   "id": "9ecae20a-7c3c-433a-83b4-96a568b37454",
   "metadata": {},
   "outputs": [],
   "source": [
    "import sys\n",
    "sys.path.append('..')\n",
    "\n",
    "from wildlife_datasets import datasets, loader\n",
    "\n",
    "root_dataset = '../data'\n",
    "root_dataframe = '../data/_dataframes'\n",
    "\n",
    "dataset_names = [dataset_name for dataset_name in datasets.names_all]\n",
    "\n",
    "ds = loader.load_datasets(dataset_names, root_dataset, root_dataframe)"
   ]
  },
  {
   "cell_type": "code",
   "execution_count": 2,
   "id": "2d6bca80",
   "metadata": {},
   "outputs": [],
   "source": [
    "def print_discrepancies(d):\n",
    "    df = d.df\n",
    "    metadata = d.metadata\n",
    "    keys = metadata.keys()\n",
    "    \n",
    "    if 'reported_n_total' in keys:\n",
    "        val1 = metadata['reported_n_total']\n",
    "        val2 = len(df)\n",
    "        error_msg = 'Different number of entries'\n",
    "        check_equality(val1, val2, error_msg, d)\n",
    "\n",
    "    if 'reported_n_identified' in keys:\n",
    "        val1 = metadata['reported_n_identified']\n",
    "        val2 = len(df[df['identity'] != 'unknown'])\n",
    "        error_msg = 'Different number of identified entries'\n",
    "        check_equality(val1, val2, error_msg, d)            \n",
    "\n",
    "    if 'reported_n_photos' in keys:\n",
    "        val1 = metadata['reported_n_photos']\n",
    "        val2 = len(df['path'].unique())\n",
    "        error_msg = 'Different number of photos'\n",
    "        check_equality(val1, val2, error_msg, d)            \n",
    "\n",
    "    if 'reported_n_individuals' in keys:\n",
    "        val1 = metadata['reported_n_individuals']\n",
    "        val2 = len(df['identity'].unique())\n",
    "        if 'unknown' in list(df['identity'].unique()):\n",
    "            val2 -= 1\n",
    "        error_msg = 'Different number of identities'\n",
    "        check_equality(val1, val2, error_msg, d)            \n",
    "\n",
    "def check_equality(val1, val2, error_msg, d):\n",
    "    if val1 is not None and val1 != val2:\n",
    "        print('%s. %s. Reported = %d. Observed = %d.' % (d.__class__.__name__, error_msg, val1, val2))"
   ]
  },
  {
   "cell_type": "code",
   "execution_count": 3,
   "id": "9e0bf0ca",
   "metadata": {},
   "outputs": [
    {
     "name": "stdout",
     "output_type": "stream",
     "text": [
      "ATRW. Different number of entries. Reported = 9496. Observed = 5415.\n",
      "ATRW. Different number of identified entries. Reported = 3649. Observed = 5415.\n",
      "ATRW. Different number of photos. Reported = 8076. Observed = 5302.\n",
      "ATRW. Different number of identities. Reported = 92. Observed = 182.\n",
      "BirdIndividualID. Different number of entries. Reported = 50643. Observed = 52434.\n",
      "BirdIndividualID. Different number of identified entries. Reported = 50643. Observed = 51934.\n",
      "BirdIndividualID. Different number of photos. Reported = 50643. Observed = 52434.\n",
      "BirdIndividualIDSegmented. Different number of entries. Reported = 50643. Observed = 52774.\n",
      "BirdIndividualIDSegmented. Different number of identified entries. Reported = 50643. Observed = 52274.\n",
      "BirdIndividualIDSegmented. Different number of photos. Reported = 50643. Observed = 52774.\n",
      "CTai. Different number of identified entries. Reported = 5078. Observed = 4662.\n",
      "CTai. Different number of identities. Reported = 78. Observed = 71.\n",
      "Cows2021. Different number of entries. Reported = 13784. Observed = 8670.\n",
      "Cows2021. Different number of identified entries. Reported = 13784. Observed = 8670.\n",
      "Cows2021. Different number of photos. Reported = 13784. Observed = 8670.\n",
      "Drosophila. Different number of entries. Reported = 2592000. Observed = 2591820.\n",
      "Drosophila. Different number of identified entries. Reported = 2592000. Observed = 2591700.\n",
      "Drosophila. Different number of photos. Reported = 2592000. Observed = 2591820.\n",
      "LeopardID2022. Different number of identified entries. Reported = 6805. Observed = 6806.\n",
      "LionData. Different number of entries. Reported = 750. Observed = 740.\n",
      "LionData. Different number of identified entries. Reported = 750. Observed = 740.\n",
      "LionData. Different number of photos. Reported = 750. Observed = 740.\n",
      "LionData. Different number of identities. Reported = 98. Observed = 94.\n",
      "MacaqueFaces. Different number of entries. Reported = 6460. Observed = 6280.\n",
      "MacaqueFaces. Different number of identified entries. Reported = 6460. Observed = 6280.\n",
      "MacaqueFaces. Different number of photos. Reported = 6460. Observed = 6280.\n",
      "MPDD. Different number of identities. Reported = 192. Observed = 191.\n",
      "NyalaData. Different number of entries. Reported = 1934. Observed = 1942.\n",
      "NyalaData. Different number of identified entries. Reported = 1934. Observed = 1942.\n",
      "NyalaData. Different number of photos. Reported = 1934. Observed = 1942.\n",
      "NyalaData. Different number of identities. Reported = 274. Observed = 237.\n"
     ]
    }
   ],
   "source": [
    "for d in ds:\n",
    "    print_discrepancies(d)"
   ]
  },
  {
   "cell_type": "markdown",
   "id": "8fd880e7",
   "metadata": {},
   "source": [
    "- ATRW - ???.\n",
    "- BirdIndividualID - ???.\n",
    "- CTai - OK. I believe that the 'Adult identity is a mistake. CHECK!\n",
    "- Cows2021 - OK.\n",
    "- Drosophila - OK. Few images had different structure. We ignored them.\n",
    "- LeopardID2022 - ???.\n",
    "- LionData - OK.\n",
    "- MacaqueFaces - OK. In the paper they write that it is slightly less (not enough photos for some individuals).\n",
    "- MPDD - OK.\n",
    "- NyalaData - OK."
   ]
  }
 ],
 "metadata": {
  "kernelspec": {
   "display_name": "Python 3 (ipykernel)",
   "language": "python",
   "name": "python3"
  },
  "language_info": {
   "codemirror_mode": {
    "name": "ipython",
    "version": 3
   },
   "file_extension": ".py",
   "mimetype": "text/x-python",
   "name": "python",
   "nbconvert_exporter": "python",
   "pygments_lexer": "ipython3",
   "version": "3.12.0"
  }
 },
 "nbformat": 4,
 "nbformat_minor": 5
}
